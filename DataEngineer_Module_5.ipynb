{
  "nbformat": 4,
  "nbformat_minor": 0,
  "metadata": {
    "colab": {
      "provenance": [],
      "authorship_tag": "ABX9TyM9GVcf2Boj6MUKV7Ce+qkf",
      "include_colab_link": true
    },
    "kernelspec": {
      "name": "python3",
      "display_name": "Python 3"
    },
    "language_info": {
      "name": "python"
    }
  },
  "cells": [
    {
      "cell_type": "markdown",
      "metadata": {
        "id": "view-in-github",
        "colab_type": "text"
      },
      "source": [
        "<a href=\"https://colab.research.google.com/github/Rahee93/DataEngineer_Module_5/blob/main/DataEngineer_Module_5.ipynb\" target=\"_parent\"><img src=\"https://colab.research.google.com/assets/colab-badge.svg\" alt=\"Open In Colab\"/></a>"
      ]
    },
    {
      "cell_type": "code",
      "execution_count": 1,
      "metadata": {
        "colab": {
          "base_uri": "https://localhost:8080/"
        },
        "id": "_WLZFw3U4XY1",
        "outputId": "c7490569-20d3-444e-9983-37664d8770cf"
      },
      "outputs": [
        {
          "output_type": "stream",
          "name": "stdout",
          "text": [
            "Download complete!\n"
          ]
        }
      ],
      "source": [
        "import requests\n",
        "\n",
        "url = \"https://d37ci6vzurychx.cloudfront.net/trip-data/yellow_tripdata_2024-10.parquet\"\n",
        "response = requests.get(url)\n",
        "\n",
        "with open(\"yellow_tripdata_2024-10.parquet\", \"wb\") as file:\n",
        "    file.write(response.content)\n",
        "\n",
        "print(\"Download complete!\")\n"
      ]
    },
    {
      "cell_type": "code",
      "source": [
        "## To install yellow tripdata on my local\n",
        "from google.colab import files\n",
        "files.download('yellow_tripdata_2024-10.parquet')\n"
      ],
      "metadata": {
        "colab": {
          "base_uri": "https://localhost:8080/",
          "height": 17
        },
        "id": "1XYAc7D84-He",
        "outputId": "4d79a344-33d9-4c95-9a77-91892d71a20a"
      },
      "execution_count": 2,
      "outputs": [
        {
          "output_type": "display_data",
          "data": {
            "text/plain": [
              "<IPython.core.display.Javascript object>"
            ],
            "application/javascript": [
              "\n",
              "    async function download(id, filename, size) {\n",
              "      if (!google.colab.kernel.accessAllowed) {\n",
              "        return;\n",
              "      }\n",
              "      const div = document.createElement('div');\n",
              "      const label = document.createElement('label');\n",
              "      label.textContent = `Downloading \"${filename}\": `;\n",
              "      div.appendChild(label);\n",
              "      const progress = document.createElement('progress');\n",
              "      progress.max = size;\n",
              "      div.appendChild(progress);\n",
              "      document.body.appendChild(div);\n",
              "\n",
              "      const buffers = [];\n",
              "      let downloaded = 0;\n",
              "\n",
              "      const channel = await google.colab.kernel.comms.open(id);\n",
              "      // Send a message to notify the kernel that we're ready.\n",
              "      channel.send({})\n",
              "\n",
              "      for await (const message of channel.messages) {\n",
              "        // Send a message to notify the kernel that we're ready.\n",
              "        channel.send({})\n",
              "        if (message.buffers) {\n",
              "          for (const buffer of message.buffers) {\n",
              "            buffers.push(buffer);\n",
              "            downloaded += buffer.byteLength;\n",
              "            progress.value = downloaded;\n",
              "          }\n",
              "        }\n",
              "      }\n",
              "      const blob = new Blob(buffers, {type: 'application/binary'});\n",
              "      const a = document.createElement('a');\n",
              "      a.href = window.URL.createObjectURL(blob);\n",
              "      a.download = filename;\n",
              "      div.appendChild(a);\n",
              "      a.click();\n",
              "      div.remove();\n",
              "    }\n",
              "  "
            ]
          },
          "metadata": {}
        },
        {
          "output_type": "display_data",
          "data": {
            "text/plain": [
              "<IPython.core.display.Javascript object>"
            ],
            "application/javascript": [
              "download(\"download_48440dc1-741d-4548-85e4-3bbdbe0fc21b\", \"yellow_tripdata_2024-10.parquet\", 64346071)"
            ]
          },
          "metadata": {}
        }
      ]
    },
    {
      "cell_type": "code",
      "source": [
        "import pandas as pd\n",
        "\n",
        "# Read the Parquet file\n",
        "df = pd.read_parquet('yellow_tripdata_2024-10.parquet')\n",
        "\n",
        "# Print the DataFrame\n",
        "print(df)\n"
      ],
      "metadata": {
        "colab": {
          "base_uri": "https://localhost:8080/"
        },
        "id": "5uNG8fCu8o7m",
        "outputId": "3cce4189-d2e3-4bf3-a46f-f0872edac946"
      },
      "execution_count": 3,
      "outputs": [
        {
          "output_type": "stream",
          "name": "stdout",
          "text": [
            "         VendorID tpep_pickup_datetime tpep_dropoff_datetime  passenger_count  \\\n",
            "0               2  2024-10-01 00:30:44   2024-10-01 00:48:26              1.0   \n",
            "1               1  2024-10-01 00:12:20   2024-10-01 00:25:25              1.0   \n",
            "2               1  2024-10-01 00:04:46   2024-10-01 00:13:52              1.0   \n",
            "3               1  2024-10-01 00:12:10   2024-10-01 00:23:01              1.0   \n",
            "4               1  2024-10-01 00:30:22   2024-10-01 00:30:39              1.0   \n",
            "...           ...                  ...                   ...              ...   \n",
            "3833766         2  2024-10-31 23:49:01   2024-11-01 00:04:31              NaN   \n",
            "3833767         2  2024-10-31 23:35:15   2024-10-31 23:52:50              NaN   \n",
            "3833768         2  2024-10-31 23:30:43   2024-11-01 00:08:12              NaN   \n",
            "3833769         2  2024-10-31 23:00:00   2024-10-31 23:06:00              NaN   \n",
            "3833770         2  2024-10-31 23:18:00   2024-10-31 23:51:00              NaN   \n",
            "\n",
            "         trip_distance  RatecodeID store_and_fwd_flag  PULocationID  \\\n",
            "0                 3.00         1.0                  N           162   \n",
            "1                 2.20         1.0                  N            48   \n",
            "2                 2.70         1.0                  N           142   \n",
            "3                 3.10         1.0                  N           233   \n",
            "4                 0.00         1.0                  N           262   \n",
            "...                ...         ...                ...           ...   \n",
            "3833766           3.49         NaN               None           107   \n",
            "3833767           2.40         NaN               None           137   \n",
            "3833768          12.28         NaN               None           188   \n",
            "3833769           0.56         NaN               None           230   \n",
            "3833770           6.25         NaN               None           246   \n",
            "\n",
            "         DOLocationID  payment_type  fare_amount  extra  mta_tax  tip_amount  \\\n",
            "0                 246             1        18.40    1.0      0.5        1.50   \n",
            "1                 236             1        14.20    3.5      0.5        3.80   \n",
            "2                  24             1        13.50    3.5      0.5        3.70   \n",
            "3                  75             1        14.20    3.5      0.5        2.00   \n",
            "4                 262             3         3.00    3.5      0.5        0.00   \n",
            "...               ...           ...          ...    ...      ...         ...   \n",
            "3833766           262             0        21.36    0.0      0.5        0.00   \n",
            "3833767           145             0        21.88    0.0      0.5        6.03   \n",
            "3833768           233             0        42.68    0.0      0.5        0.00   \n",
            "3833769            50             0        16.84    0.0      0.5        0.00   \n",
            "3833770            75             0        25.96    0.0      0.5        0.00   \n",
            "\n",
            "         tolls_amount  improvement_surcharge  total_amount  \\\n",
            "0                0.00                    1.0         24.90   \n",
            "1                0.00                    1.0         23.00   \n",
            "2                0.00                    1.0         22.20   \n",
            "3                0.00                    1.0         21.20   \n",
            "4                0.00                    1.0          8.00   \n",
            "...               ...                    ...           ...   \n",
            "3833766          0.00                    1.0         25.36   \n",
            "3833767         11.14                    1.0         43.05   \n",
            "3833768          6.94                    1.0         53.62   \n",
            "3833769          0.00                    1.0         20.84   \n",
            "3833770          0.00                    1.0         29.96   \n",
            "\n",
            "         congestion_surcharge  Airport_fee  \n",
            "0                         2.5          0.0  \n",
            "1                         2.5          0.0  \n",
            "2                         2.5          0.0  \n",
            "3                         2.5          0.0  \n",
            "4                         2.5          0.0  \n",
            "...                       ...          ...  \n",
            "3833766                   NaN          NaN  \n",
            "3833767                   NaN          NaN  \n",
            "3833768                   NaN          NaN  \n",
            "3833769                   NaN          NaN  \n",
            "3833770                   NaN          NaN  \n",
            "\n",
            "[3833771 rows x 19 columns]\n"
          ]
        }
      ]
    },
    {
      "cell_type": "code",
      "source": [
        "import pandas as pd\n",
        "\n",
        "# Load the Parquet file into a DataFrame\n",
        "df = pd.read_parquet('yellow_tripdata_2024-10.parquet')\n",
        "\n",
        "# Check the first few rows to confirm the column names\n",
        "print(df.head())\n",
        "\n",
        "# Convert the 'tpep_pickup_datetime' column to datetime\n",
        "df['tpep_pickup_datetime'] = pd.to_datetime(df['tpep_pickup_datetime'])\n",
        "\n",
        "# Filter trips that started on the 15th of October, 2024\n",
        "oct_15_trips = df[df['tpep_pickup_datetime'].dt.date == pd.to_datetime('2024-10-15').date()]\n",
        "\n",
        "# Count the number of trips\n",
        "num_trips = oct_15_trips.shape[0]\n",
        "print(f\"Number of trips on 15th October 2024: {num_trips}\")\n",
        "\n"
      ],
      "metadata": {
        "colab": {
          "base_uri": "https://localhost:8080/"
        },
        "id": "bwitESwE9JVr",
        "outputId": "bba3a97f-2cb0-4f70-d56a-46dc5abc487c"
      },
      "execution_count": 4,
      "outputs": [
        {
          "output_type": "stream",
          "name": "stdout",
          "text": [
            "   VendorID tpep_pickup_datetime tpep_dropoff_datetime  passenger_count  \\\n",
            "0         2  2024-10-01 00:30:44   2024-10-01 00:48:26              1.0   \n",
            "1         1  2024-10-01 00:12:20   2024-10-01 00:25:25              1.0   \n",
            "2         1  2024-10-01 00:04:46   2024-10-01 00:13:52              1.0   \n",
            "3         1  2024-10-01 00:12:10   2024-10-01 00:23:01              1.0   \n",
            "4         1  2024-10-01 00:30:22   2024-10-01 00:30:39              1.0   \n",
            "\n",
            "   trip_distance  RatecodeID store_and_fwd_flag  PULocationID  DOLocationID  \\\n",
            "0            3.0         1.0                  N           162           246   \n",
            "1            2.2         1.0                  N            48           236   \n",
            "2            2.7         1.0                  N           142            24   \n",
            "3            3.1         1.0                  N           233            75   \n",
            "4            0.0         1.0                  N           262           262   \n",
            "\n",
            "   payment_type  fare_amount  extra  mta_tax  tip_amount  tolls_amount  \\\n",
            "0             1         18.4    1.0      0.5         1.5           0.0   \n",
            "1             1         14.2    3.5      0.5         3.8           0.0   \n",
            "2             1         13.5    3.5      0.5         3.7           0.0   \n",
            "3             1         14.2    3.5      0.5         2.0           0.0   \n",
            "4             3          3.0    3.5      0.5         0.0           0.0   \n",
            "\n",
            "   improvement_surcharge  total_amount  congestion_surcharge  Airport_fee  \n",
            "0                    1.0          24.9                   2.5          0.0  \n",
            "1                    1.0          23.0                   2.5          0.0  \n",
            "2                    1.0          22.2                   2.5          0.0  \n",
            "3                    1.0          21.2                   2.5          0.0  \n",
            "4                    1.0           8.0                   2.5          0.0  \n",
            "Number of trips on 15th October 2024: 128893\n"
          ]
        }
      ]
    },
    {
      "cell_type": "code",
      "source": [
        "# Question 4: Longest trip\n",
        "# What is the length of the longest trip in the dataset in hours?\n",
        "# Convert 'tpep_pickup_datetime' and 'tpep_dropoff_datetime' to datetime\n",
        "df['tpep_pickup_datetime'] = pd.to_datetime(df['tpep_pickup_datetime'])\n",
        "df['tpep_dropoff_datetime'] = pd.to_datetime(df['tpep_dropoff_datetime'])\n",
        "\n",
        "# Calculate the trip duration in hours\n",
        "df['trip_duration_hours'] = (df['tpep_dropoff_datetime'] - df['tpep_pickup_datetime']).dt.total_seconds() / 3600\n",
        "\n",
        "# Find the maximum trip duration\n",
        "longest_trip_duration = df['trip_duration_hours'].max()\n",
        "print(f\"The length of the longest trip is: {longest_trip_duration} hours\")"
      ],
      "metadata": {
        "colab": {
          "base_uri": "https://localhost:8080/"
        },
        "id": "zLFX7zsr-nkE",
        "outputId": "81a5c914-299e-4289-fbd5-38a2c021f4ed"
      },
      "execution_count": 5,
      "outputs": [
        {
          "output_type": "stream",
          "name": "stdout",
          "text": [
            "The length of the longest trip is: 162.61777777777777 hours\n"
          ]
        }
      ]
    },
    {
      "cell_type": "code",
      "source": [
        "from pyspark.sql import SparkSession\n",
        "from pyspark.sql.functions import col\n",
        "\n",
        "# Initialize Spark session\n",
        "spark = SparkSession.builder \\\n",
        "    .appName(\"Least Frequent Pickup Location Zone\") \\\n",
        "    .getOrCreate()\n",
        "\n"
      ],
      "metadata": {
        "id": "_b4NYDE4A7KB"
      },
      "execution_count": 6,
      "outputs": []
    },
    {
      "cell_type": "code",
      "source": [
        "# Download taxi zone lookup data\n",
        "!wget https://d37ci6vzurychx.cloudfront.net/misc/taxi_zone_lookup.csv\n",
        "\n",
        "# Load the taxi zone lookup data (zone lookup data CSV)\n",
        "zone_data_path = \"./taxi_zone_lookup.csv\"  # Path to the downloaded file\n",
        "zone_df = spark.read.csv(zone_data_path, header=True, inferSchema=True)\n",
        "\n",
        "zone_df.show(5)"
      ],
      "metadata": {
        "colab": {
          "base_uri": "https://localhost:8080/"
        },
        "id": "rlbux2mZDWOK",
        "outputId": "03bb37a6-887a-4c8a-b4ba-051cf582bf1b"
      },
      "execution_count": 7,
      "outputs": [
        {
          "output_type": "stream",
          "name": "stdout",
          "text": [
            "--2025-03-06 17:09:02--  https://d37ci6vzurychx.cloudfront.net/misc/taxi_zone_lookup.csv\n",
            "Resolving d37ci6vzurychx.cloudfront.net (d37ci6vzurychx.cloudfront.net)... 52.84.160.73, 52.84.160.213, 52.84.160.116, ...\n",
            "Connecting to d37ci6vzurychx.cloudfront.net (d37ci6vzurychx.cloudfront.net)|52.84.160.73|:443... connected.\n",
            "HTTP request sent, awaiting response... 200 OK\n",
            "Length: 12331 (12K) [text/csv]\n",
            "Saving to: ‘taxi_zone_lookup.csv’\n",
            "\n",
            "\rtaxi_zone_lookup.cs   0%[                    ]       0  --.-KB/s               \rtaxi_zone_lookup.cs 100%[===================>]  12.04K  --.-KB/s    in 0s      \n",
            "\n",
            "2025-03-06 17:09:03 (51.7 MB/s) - ‘taxi_zone_lookup.csv’ saved [12331/12331]\n",
            "\n",
            "+----------+-------------+--------------------+------------+\n",
            "|LocationID|      Borough|                Zone|service_zone|\n",
            "+----------+-------------+--------------------+------------+\n",
            "|         1|          EWR|      Newark Airport|         EWR|\n",
            "|         2|       Queens|         Jamaica Bay|   Boro Zone|\n",
            "|         3|        Bronx|Allerton/Pelham G...|   Boro Zone|\n",
            "|         4|    Manhattan|       Alphabet City| Yellow Zone|\n",
            "|         5|Staten Island|       Arden Heights|   Boro Zone|\n",
            "+----------+-------------+--------------------+------------+\n",
            "only showing top 5 rows\n",
            "\n"
          ]
        }
      ]
    },
    {
      "cell_type": "code",
      "source": [
        "# Check the column names of the DataFrames\n",
        "df.columns\n",
        "zone_df.columns"
      ],
      "metadata": {
        "colab": {
          "base_uri": "https://localhost:8080/"
        },
        "id": "2bAjUMIBFory",
        "outputId": "9f3b27d3-51a2-4c42-d54f-d2e1e2fbfee2"
      },
      "execution_count": 8,
      "outputs": [
        {
          "output_type": "execute_result",
          "data": {
            "text/plain": [
              "['LocationID', 'Borough', 'Zone', 'service_zone']"
            ]
          },
          "metadata": {},
          "execution_count": 8
        }
      ]
    },
    {
      "cell_type": "code",
      "source": [
        "# Question 6: Least frequent pickup location zone\n",
        "# Using the zone lookup data and the Yellow October 2024 data, what is the name of the LEAST frequent pickup location Zone?\n",
        "from pyspark.sql import SparkSession\n",
        "import pandas as pd"
      ],
      "metadata": {
        "id": "oXHV63xKGyiK"
      },
      "execution_count": 9,
      "outputs": []
    },
    {
      "cell_type": "code",
      "source": [
        "# Initialize Spark session\n",
        "spark = SparkSession.builder.appName(\"TaxiAnalysis\").getOrCreate()"
      ],
      "metadata": {
        "id": "-E8nfXc_G1er"
      },
      "execution_count": 10,
      "outputs": []
    },
    {
      "cell_type": "code",
      "source": [
        "# Convert the Pandas DataFrame to Spark DataFrame\n",
        "yellow_taxi_data = spark.createDataFrame(df)\n"
      ],
      "metadata": {
        "id": "bL-RoZOEG9zY"
      },
      "execution_count": 11,
      "outputs": []
    },
    {
      "cell_type": "code",
      "source": [
        "# Create a temporary view for the yellow_taxi_data\n",
        "yellow_taxi_data.createOrReplaceTempView(\"yellow_taxi_data\")"
      ],
      "metadata": {
        "id": "gDistgWrKj48"
      },
      "execution_count": 12,
      "outputs": []
    },
    {
      "cell_type": "code",
      "source": [
        "# Assuming zone_lookup DataFrame is already created and available as zone_df\n",
        "zone_df.createOrReplaceTempView(\"zone_lookup\")"
      ],
      "metadata": {
        "id": "wfn1erUSKoQR"
      },
      "execution_count": 13,
      "outputs": []
    },
    {
      "cell_type": "code",
      "source": [
        "# Execute the query to find least frequent pickup location zone\n",
        "query = \"\"\"\n",
        "SELECT z.Zone, COUNT(1) AS trip_count\n",
        "FROM yellow_taxi_data y\n",
        "JOIN zone_lookup z ON y.PULocationID = z.LocationID\n",
        "GROUP BY z.Zone\n",
        "ORDER BY trip_count ASC\n",
        "LIMIT 1\n",
        "\"\"\""
      ],
      "metadata": {
        "id": "FNpqoLfkKrsy"
      },
      "execution_count": 14,
      "outputs": []
    },
    {
      "cell_type": "code",
      "source": [
        "# Load the taxi zone lookup data\n",
        "zone_df = spark.read.csv(\"./taxi_zone_lookup.csv\", header=True, inferSchema=True)\n",
        "zone_df.createOrReplaceTempView(\"zone_lookup\")\n",
        "\n"
      ],
      "metadata": {
        "id": "vgjtAK-7jjJu"
      },
      "execution_count": 29,
      "outputs": []
    },
    {
      "cell_type": "code",
      "source": [
        "# Load the Yellow October 2024 data\n",
        "yellow_october_df = spark.read.csv(\"yellow_tripdata_2024-10.parquet\", header=True, inferSchema=True)\n",
        "yellow_october_df.createOrReplaceTempView(\"yellow_october\")"
      ],
      "metadata": {
        "id": "wU7a7iuCk2Zp"
      },
      "execution_count": 30,
      "outputs": []
    },
    {
      "cell_type": "code",
      "source": [
        "# Run the query\n",
        "least_frequent_zone = spark.sql(query)"
      ],
      "metadata": {
        "id": "BXYQE51sKv3y"
      },
      "execution_count": 20,
      "outputs": []
    },
    {
      "cell_type": "code",
      "source": [
        "# Show the least frequent zone\n",
        "least_frequent_zone.show()"
      ],
      "metadata": {
        "id": "aiZ99pahnP4s"
      },
      "execution_count": null,
      "outputs": []
    }
  ]
}